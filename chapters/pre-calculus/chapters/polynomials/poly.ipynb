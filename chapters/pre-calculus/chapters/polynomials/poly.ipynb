{
 "cells": [
  {
   "cell_type": "markdown",
   "id": "890c18f5",
   "metadata": {},
   "source": [
    "## Modeling with Linear Functions"
   ]
  },
  {
   "cell_type": "code",
   "execution_count": null,
   "id": "ad3aa821",
   "metadata": {},
   "outputs": [],
   "source": [
    "import cv2\n",
    "import os\n",
    "import numpy as np\n",
    "import matplotlib.pyplot as plt\n",
    "from datetime import datetime\n",
    "\n",
    "# Create demo1 directory if it doesn't exist\n",
    "demo_dir = \"demo1\"\n",
    "if not os.path.exists(demo_dir):\n",
    "    os.makedirs(demo_dir)\n",
    "    print(f\"Created directory: {demo_dir}\")\n",
    "\n",
    "# Initialize webcam\n",
    "cap = cv2.VideoCapture(0)  # 0 for default camera\n",
    "\n",
    "if not cap.isOpened():\n",
    "    print(\"Error: Could not open webcam\")\n",
    "else:\n",
    "    try:\n",
    "        # Wait a bit for the camera to initialize\n",
    "        print(\"Initializing camera...\")\n",
    "        for i in range(5, 0, -1):\n",
    "            print(f\"Capturing in {i} seconds...\")\n",
    "            ret = cap.grab()  # Grab frames to stabilize camera\n",
    "            cv2.waitKey(1000)  # Wait 1 second\n",
    "        \n",
    "        # Capture frame\n",
    "        ret, frame = cap.read()\n",
    "        \n",
    "        if ret:\n",
    "            # Generate filename with timestamp\n",
    "            timestamp = datetime.now().strftime(\"%Y%m%d_%H%M%S\")\n",
    "            filename = f\"{demo_dir}/webcam_{timestamp}.jpg\"\n",
    "            \n",
    "            # Save the image\n",
    "            cv2.imwrite(filename, frame)\n",
    "            print(f\"Image saved to {filename}\")\n",
    "            \n",
    "            # Convert from BGR to RGB for displaying with matplotlib\n",
    "            rgb_frame = cv2.cvtColor(frame, cv2.COLOR_BGR2RGB)\n",
    "            \n",
    "            # Display the captured image\n",
    "            plt.figure(figsize=(10, 8))\n",
    "            plt.imshow(rgb_frame)\n",
    "            plt.title(\"Captured Image\")\n",
    "            plt.axis('off')\n",
    "            plt.show()\n",
    "        else:\n",
    "            print(\"Error: Could not capture frame\")\n",
    "    \n",
    "    finally:\n",
    "        # Release the camera\n",
    "        cap.release()\n",
    "        print(\"Camera released\")"
   ]
  }
 ],
 "metadata": {
  "kernelspec": {
   "display_name": "venv (3.13.3)",
   "language": "python",
   "name": "python3"
  },
  "language_info": {
   "name": "python",
   "version": "3.13.3"
  }
 },
 "nbformat": 4,
 "nbformat_minor": 5
}
